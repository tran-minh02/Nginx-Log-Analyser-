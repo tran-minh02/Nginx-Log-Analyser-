{
 "cells": [
  {
   "cell_type": "code",
   "execution_count": null,
   "metadata": {},
   "outputs": [],
   "source": [
    "# Sort, In 5 kết quả cuối , phân tách , "
   ]
  },
  {
   "cell_type": "code",
   "execution_count": 11,
   "metadata": {},
   "outputs": [
    {
     "name": "stdout",
     "output_type": "stream",
     "text": [
      "Top 5 IP addresses with the most requests:\n",
      "178.128.94.113 - 1087 requests\n",
      "142.93.136.176 - 1087 requests\n",
      "138.68.248.85 - 1087 requests\n",
      "159.89.185.30 - 1086 requests\n",
      "185.224.128.59 - 2 requests\n",
      "\n",
      "Top 5 most requested paths\n",
      "/v1-health - 4560 requests\n",
      "/cgi-bin/luci/;stok=/locale - 5 requests\n",
      "/ - 270 requests\n",
      "/druid/index.html - 3 requests\n",
      "cloudflare.com:443 - 4 requests\n",
      "\n",
      "Top 5 response status codes:\n",
      "200 - 5740 requests\n",
      "404 - 937 requests\n",
      "400 - 192 requests\n",
      "403 - 23 requests\n",
      "304 - 621 requests\n",
      "\n",
      "Top 5 IP addresses with the most requests:\n",
      "\"DigitalOcean Uptime Probe 0.22.0 (https://digitalocean.com)\" - 4347 requests\n",
      "\"-\" - 117 requests\n",
      "\"Mozilla/5.0 (Windows NT 10.0; Win64; x64) AppleWebKit/537.36 (KHTML, like Gecko) Chrome/129.0.0.0 Safari/537.36 (StatusCake)\" - 211 requests\n",
      "\"Mozilla/5.0 zgrab/0.x\" - 15 requests\n",
      "\"Mozilla/5.0 (iPhone; CPU iPhone OS 16_1 like Mac OS X) AppleWebKit/605.1.15 (KHTML, like Gecko) Version/16.1 Mobile/15E148 Safari/604.1\" - 37 requests\n"
     ]
    }
   ],
   "source": [
    "from collections import defaultdict\n",
    "import time \n",
    "import itertools\n",
    "ip = defaultdict(int)\n",
    "path = defaultdict(int)\n",
    "status_code = defaultdict(int)\n",
    "user_agent = defaultdict(int)\n",
    "\n",
    "def count(input_log):\n",
    "    ip[lst[0]] += 1\n",
    "    path[lst[1]] += 1\n",
    "    status_code[lst[2]] += 1\n",
    "    user_agent[lst[3]] += 1\n",
    "    \n",
    "def sort_dict(dict):\n",
    "    return dict(sorted(dict.items(), key=lambda item: item[1], reverse=True))\n",
    "\n",
    "def output(dic):\n",
    "    for x in dict(itertools.islice(dic.items(), 5)):\n",
    "        print(f\"{x} - {dic[x]} requests\")\n",
    "        \n",
    "with open(\"sample-nginx-log.txt\", \"r\") as f:\n",
    "    while True:\n",
    "        try:\n",
    "            input_line = f.readline().strip().split(\" \")\n",
    "            lst = [input_line[0],input_line[6],input_line[8],\" \".join(input_line[11:])]\n",
    "            count(lst)\n",
    "        except IndexError as e : \n",
    "            # time.sleep(60)\n",
    "            # continue\n",
    "            break\n",
    "\n",
    "print(\"Top 5 IP addresses with the most requests:\")\n",
    "output(ip)\n",
    "print('')\n",
    "print(\"Top 5 most requested paths:\")\n",
    "output(path)\n",
    "print('')\n",
    "print(\"Top 5 response status codes:\")\n",
    "output(status_code)\n",
    "print('')\n",
    "print(\"Top 5 IP addresses with the most requests:\")\n",
    "output(user_agent)\n",
    "\n",
    "    "
   ]
  }
 ],
 "metadata": {
  "kernelspec": {
   "display_name": "base",
   "language": "python",
   "name": "python3"
  },
  "language_info": {
   "codemirror_mode": {
    "name": "ipython",
    "version": 3
   },
   "file_extension": ".py",
   "mimetype": "text/x-python",
   "name": "python",
   "nbconvert_exporter": "python",
   "pygments_lexer": "ipython3",
   "version": "3.11.7"
  }
 },
 "nbformat": 4,
 "nbformat_minor": 2
}
